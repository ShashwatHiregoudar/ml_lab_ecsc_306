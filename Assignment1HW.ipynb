{
 "cells": [
  {
   "cell_type": "code",
   "execution_count": 12,
   "metadata": {},
   "outputs": [
    {
     "name": "stdout",
     "output_type": "stream",
     "text": [
      "Tensor(\"Question1_4/RHS/sub:0\", shape=(), dtype=int32) Tensor(\"Question1_4/RHS/sub:0\", shape=(), dtype=int32)\n"
     ]
    }
   ],
   "source": []
  },
  {
   "cell_type": "code",
   "execution_count": null,
   "metadata": {
    "collapsed": true
   },
   "outputs": [],
   "source": [
    "\n"
   ]
  },
  {
   "cell_type": "code",
   "execution_count": 2,
   "metadata": {},
   "outputs": [
    {
     "name": "stdout",
     "output_type": "stream",
     "text": [
      "Tensor(\"x_-_y_cube/Add_1:0\", shape=(), dtype=int32)\n"
     ]
    }
   ],
   "source": [
    "#(a+b)^3 = a^3 + b^3 + 3ab(a+b)\n",
    "import tensorflow as tf\n",
    "a = tf.constant(6, name = \"a\")\n",
    "b = tf.constant(7, name = \"b\")\n",
    "with tf.name_scope(\"x_-_y_cube\"):\n",
    "    with tf.name_scope(\"A3\"):\n",
    "        A3 = tf.pow(a, 3,name=\"aCube\")\n",
    "    with tf.name_scope(\"B3\"):\n",
    "        B3 = tf.pow(b, 3,name=\"bCube\")\n",
    "    with tf.name_scope(\"3AB\"):\n",
    "        A3B = tf.multiply(3,tf.multiply(a,b), name=\"threeAB\")\n",
    "    with tf.name_scope(\"ApB\"):\n",
    "        ApB = tf.add(a,b,name=\"aPLUSb\")\n",
    "    with tf.name_scope(\"3ABxApB\"):\n",
    "        A3BxApB = tf.multiply(A3B,ApB)\n",
    "    RHS = tf.add(tf.add(A3,B3),A3BxApB)\n",
    "\n",
    "with tf.Session() as sess:\n",
    "    writer = tf.summary.FileWriter(\"/home/shashwat/Desktop/TF_Gra\", sess.graph)\n",
    "    print (RHS)\n",
    "    writer.close()\n"
   ]
  },
  {
   "cell_type": "code",
   "execution_count": null,
   "metadata": {
    "collapsed": true
   },
   "outputs": [],
   "source": []
  },
  {
   "cell_type": "code",
   "execution_count": 8,
   "metadata": {},
   "outputs": [
    {
     "name": "stdout",
     "output_type": "stream",
     "text": [
      "Tensor(\"a_-_b_square_1/2AB/Mul:0\", shape=(), dtype=int32)\n"
     ]
    }
   ],
   "source": [
    "#(a-b)^2 = a^2 + b^2 - 2ab\n",
    "import tensorflow as tf\n",
    "a = tf.constant(6, name = \"a\")\n",
    "b = tf.constant(7, name = \"b\")\n",
    "with tf.name_scope(\"a_-_b_square\"):\n",
    "    with tf.name_scope(\"A2\"):\n",
    "        a2 = tf.pow(a, 2, name=\"aSQUARE\")\n",
    "    with tf.name_scope(\"B2\"):\n",
    "        b2 = tf.pow(b, 2, name=\"bSQUARE\")\n",
    "    with tf.name_scope(\"2AB\"):\n",
    "        with tf.name_scope(\"AB\"):\n",
    "            AB = tf.multiply(a,b)\n",
    "        A2B = tf.multiply(2,AB)\n",
    "    aMINUSb_square = tf.subtract(tf.add(a2,b2),A2B)\n",
    "\n",
    "with tf.Session() as sess:\n",
    "    writer = tf.summary.FileWriter(\"/home/shashwat/Desktop/TF_Gra\", sess.graph)\n",
    "    print (A2B)\n",
    "    writer.close()"
   ]
  },
  {
   "cell_type": "code",
   "execution_count": null,
   "metadata": {
    "collapsed": true
   },
   "outputs": [],
   "source": []
  },
  {
   "cell_type": "code",
   "execution_count": null,
   "metadata": {
    "collapsed": true
   },
   "outputs": [],
   "source": []
  },
  {
   "cell_type": "code",
   "execution_count": null,
   "metadata": {
    "collapsed": true
   },
   "outputs": [],
   "source": []
  },
  {
   "cell_type": "code",
   "execution_count": null,
   "metadata": {
    "collapsed": true
   },
   "outputs": [],
   "source": []
  },
  {
   "cell_type": "code",
   "execution_count": null,
   "metadata": {
    "collapsed": true
   },
   "outputs": [],
   "source": []
  },
  {
   "cell_type": "code",
   "execution_count": null,
   "metadata": {
    "collapsed": true
   },
   "outputs": [],
   "source": []
  }
 ],
 "metadata": {
  "kernelspec": {
   "display_name": "Python 3",
   "language": "python",
   "name": "python3"
  },
  "language_info": {
   "codemirror_mode": {
    "name": "ipython",
    "version": 3
   },
   "file_extension": ".py",
   "mimetype": "text/x-python",
   "name": "python",
   "nbconvert_exporter": "python",
   "pygments_lexer": "ipython3",
   "version": "3.6.1"
  }
 },
 "nbformat": 4,
 "nbformat_minor": 2
}
