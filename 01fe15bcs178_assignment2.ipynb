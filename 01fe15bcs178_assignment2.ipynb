{
 "cells": [
  {
   "cell_type": "markdown",
   "metadata": {
    "slideshow": {
     "slide_type": "slide"
    }
   },
   "source": [
    "Write a program using tensorflow to build a stochastic gradient descent model for linear regression"
   ]
  },
  {
   "cell_type": "markdown",
   "metadata": {
    "slideshow": {
     "slide_type": "slide"
    }
   },
   "source": [
    "Part 1\n",
    "1. Co-effiecients m &c for y=mx+c are calculated for given values from previous assignment\n",
    "2. Start with 0 (zero ) value for  m & c .\n",
    "3. Using cost function \n",
    "$$J(\\beta) = \\frac{1}{2m}\\sum_{i=1}^m(h_\\beta(x^{(i)})-y^{(i)})^2$$\n",
    "where $(h_\\beta(x^{(i)})$ is prediction for present iteration\n",
    "$y^{(i)}$ is the prediction obtained from y=mx+c value\n",
    "4. Find the values of m & c by updating the values with learning rate of 0.005, 0.0005 etc and epoch value 100,500,1000\n",
    "\n"
   ]
  },
  {
   "cell_type": "markdown",
   "metadata": {
    "slideshow": {
     "slide_type": "slide"
    }
   },
   "source": [
    "Part 2\n",
    "1. Display the graph of decreasing cost function wrt learning rate and epoch\n",
    "2. Compare time complexity of tensorflow api and user defined function\n",
    "3. Start with random values of m & c . Analyse best approach for initial values of m & c.\n"
   ]
  },
  {
   "cell_type": "code",
   "execution_count": 12,
   "metadata": {
    "collapsed": true
   },
   "outputs": [],
   "source": [
    "import tensorflow as tf\n",
    "import numpy as np\n",
    "rng = np.random\n",
    "\n",
    "import matplotlib.pyplot as plt\n",
    "learning_rate = 0.0001\n",
    "training_epochs = 1000\n",
    "display_step = 50"
   ]
  },
  {
   "cell_type": "code",
   "execution_count": 13,
   "metadata": {},
   "outputs": [
    {
     "name": "stdout",
     "output_type": "stream",
     "text": [
      "-0.3049\n",
      "1.494\n"
     ]
    }
   ],
   "source": [
    "#taking datasets given in the previous assignment\n",
    "with tf.name_scope(\"array_creation\"):\n",
    "    x_array=np.asarray([1.0,9.4,3.32,0.88,-2.23,1.11,0.57,-2.25,-3.31,6.45])\n",
    "    y_array=np.asarray([1.22,0.24,-0.08,2.25,4.41,3.09,-6.66,-9.77,0.001,2.25])\n",
    "    x = tf.constant(x_array,dtype = tf.float32,name = \"x_array\")\n",
    "    y = tf.constant(y_array,dtype = tf.float32, name= \"y_array\")\n",
    "with tf.name_scope(\"Calculation_of_y_mean\"):\n",
    "    y_mean = tf.reduce_mean(y, name = \"y_mean\")\n",
    "    with tf.Session() as sess:\n",
    "        result_y = sess.run(y_mean)\n",
    "        print(result_y)\n",
    "        \n",
    "with tf.name_scope(\"Calculation_of_x_mean\"):\n",
    "    x_mean = tf.reduce_mean(x, name = \"x_mean\")\n",
    "    with tf.Session() as sess:\n",
    "        result_x = sess.run(x_mean)\n",
    "        print(result_x)"
   ]
  },
  {
   "cell_type": "code",
   "execution_count": 16,
   "metadata": {},
   "outputs": [
    {
     "name": "stdout",
     "output_type": "stream",
     "text": [
      "1.494\n",
      "14.2987\n"
     ]
    }
   ],
   "source": [
    "\n",
    "with tf.name_scope(\"Calculating_x_mean_and_x_variance\"):\n",
    "    mean_x, variance = tf.nn.moments(x, [0], name = \"mean_x_and_variance_x\")\n",
    "    with tf.Session() as sess:\n",
    "        m, v = sess.run([mean_x, variance])\n",
    "        print(m)\n",
    "        print(v)\n",
    "\n",
    "\n"
   ]
  },
  {
   "cell_type": "code",
   "execution_count": 17,
   "metadata": {},
   "outputs": [
    {
     "name": "stdout",
     "output_type": "stream",
     "text": [
      "3.60367\n"
     ]
    }
   ],
   "source": [
    "#Calculation of covariance\n",
    "with tf.name_scope(\"Calculation_of_covariance\"):\n",
    "    def tensorflow_covariance(x_array,y_array,x_mean,y_mean):\n",
    "        cov = 0.0\n",
    "        for i in range(0,10):\n",
    "            x_val = tf.subtract(x_array[i],x_mean, name=\"x_i_minus_x_bar\")\n",
    "            y_val = tf.subtract(y_array[i],y_mean, name=\"y_i_minus_y_bar\")\n",
    "            total_val = tf.multiply(x_val,y_val, name=\"Multiplying_found_values\")\n",
    "            cov = tf.add(cov,total_val, name=\"Summation_done\")\n",
    "        return cov/10.0\n",
    "    with tf.Session() as sess:\n",
    "        covar = sess.run(tensorflow_covariance(x,y,x_mean,y_mean))\n",
    "        print(covar)\n"
   ]
  },
  {
   "cell_type": "code",
   "execution_count": null,
   "metadata": {
    "collapsed": true
   },
   "outputs": [],
   "source": []
  },
  {
   "cell_type": "code",
   "execution_count": 18,
   "metadata": {},
   "outputs": [
    {
     "name": "stdout",
     "output_type": "stream",
     "text": [
      "0.252027\n",
      "-0.681428\n"
     ]
    }
   ],
   "source": [
    "#calculation of slope and intercept\n",
    "with tf.name_scope(\"Calculation_of_slope_m_and_intercept_c\"):\n",
    "    slope = tf.div(covar,v,name=\"Finding_slope\")\n",
    "    intm = tf.multiply(slope,m,name = \"Intermediate_step\")\n",
    "    c_intm = tf.subtract(result_y,intm,name = \"Finding_c\")\n",
    "\n",
    "    with tf.Session() as sess:\n",
    "        m_slope = sess.run(slope)\n",
    "        c = sess.run(c_intm)\n",
    "        print(m_slope)\n",
    "        print(c)\n"
   ]
  },
  {
   "cell_type": "code",
   "execution_count": 19,
   "metadata": {
    "collapsed": true
   },
   "outputs": [],
   "source": [
    "\n",
    "###Part-2: Plotting graph for actual values against predicted values"
   ]
  },
  {
   "cell_type": "code",
   "execution_count": 20,
   "metadata": {},
   "outputs": [
    {
     "name": "stdout",
     "output_type": "stream",
     "text": [
      "Epoch: 0050 cost= 34.801784515 W= -1.53014 b= -0.691324\n",
      "Epoch: 0100 cost= 30.766529083 W= -1.38869 b= -0.678524\n",
      "Epoch: 0150 cost= 27.351129532 W= -1.25856 b= -0.666799\n",
      "Epoch: 0200 cost= 24.460397720 W= -1.13883 b= -0.656064\n",
      "Epoch: 0250 cost= 22.013687134 W= -1.02868 b= -0.646238\n",
      "Epoch: 0300 cost= 19.942836761 W= -0.92733 b= -0.637249\n",
      "Epoch: 0350 cost= 18.190113068 W= -0.834089 b= -0.629031\n",
      "Epoch: 0400 cost= 16.706613541 W= -0.748303 b= -0.62152\n",
      "Epoch: 0450 cost= 15.450994492 W= -0.669375 b= -0.61466\n",
      "Epoch: 0500 cost= 14.388254166 W= -0.596758 b= -0.608399\n",
      "Epoch: 0550 cost= 13.488764763 W= -0.529946 b= -0.602689\n",
      "Epoch: 0600 cost= 12.727434158 W= -0.468475 b= -0.597485\n",
      "Epoch: 0650 cost= 12.083050728 W= -0.411918 b= -0.592746\n",
      "Epoch: 0700 cost= 11.537645340 W= -0.359881 b= -0.588436\n",
      "Epoch: 0750 cost= 11.076009750 W= -0.312003 b= -0.584518\n",
      "Epoch: 0800 cost= 10.685278893 W= -0.26795 b= -0.580963\n",
      "Epoch: 0850 cost= 10.354562759 W= -0.227418 b= -0.577741\n",
      "Epoch: 0900 cost= 10.074638367 W= -0.190124 b= -0.574825\n",
      "Epoch: 0950 cost= 9.837706566 W= -0.155809 b= -0.57219\n",
      "Epoch: 1000 cost= 9.637160301 W= -0.124236 b= -0.569815\n",
      "Optimization Finished!\n",
      "Training cost= 9.63716 W= -0.124236 b= -0.569815 \n",
      "\n"
     ]
    },
    {
     "data": {
      "image/png": "[encoded data removed]",
      "text/plain": [
       "<matplotlib.figure.Figure at 0x7fd7d5a916d8>"
      ]
     },
     "metadata": {},
     "output_type": "display_data"
    }
   ],
   "source": [
    "with tf.name_scope(\"Plotting\"):\n",
    "    n_samples = x_array.shape[0]\n",
    "    X = tf.placeholder(\"float\")\n",
    "    Y = tf.placeholder(\"float\")\n",
    "\n",
    "    # Set model weights\n",
    "    W = tf.Variable(rng.randn(), name=\"weight\")\n",
    "    b = tf.Variable(rng.randn(), name=\"bias\")\n",
    "\n",
    "    # Construct a linear model\n",
    "    pred = tf.add(tf.multiply(X, W), b)\n",
    "\n",
    "\n",
    "    # Mean squared error\n",
    "    cost = tf.reduce_sum(tf.pow(pred-Y, 2))/(2*n_samples)\n",
    "    # Gradient descent\n",
    "    optimizer = tf.train.GradientDescentOptimizer(learning_rate).minimize(cost)\n",
    "\n",
    "    # Initializing the variables\n",
    "    init = tf.global_variables_initializer()\n",
    "\n",
    "    # Launch the graph\n",
    "    with tf.Session() as sess:\n",
    "        sess.run(init)\n",
    "\n",
    "        # Fit all training data\n",
    "        for epoch in range(training_epochs):\n",
    "            for (p, r) in zip(x_array, y_array):\n",
    "                sess.run(optimizer, feed_dict={X: p, Y: r})\n",
    "\n",
    "            # Display logs per epoch step\n",
    "            if (epoch+1) % display_step == 0:\n",
    "                c = sess.run(cost, feed_dict={X: x_array, Y:y_array})\n",
    "                print(\"Epoch:\", '%04d' % (epoch+1), \"cost=\", \"{:.9f}\".format(c), \\\n",
    "                    \"W=\", sess.run(W), \"b=\", sess.run(b))\n",
    "\n",
    "        print(\"Optimization Finished!\")\n",
    "        training_cost = sess.run(cost, feed_dict={X: x_array, Y: y_array})\n",
    "        print(\"Training cost=\", training_cost, \"W=\", sess.run(W), \"b=\", sess.run(b), '\\n')\n",
    "\n",
    "        # Graphic display\n",
    "        plt.plot(x_array, y_array, 'ro', label='Original data')\n",
    "        plt.plot(x_array, sess.run(W) * x_array + sess.run(b), label='Fitted line')\n",
    "        plt.legend()\n",
    "        plt.show()"
   ]
  },
  {
   "cell_type": "code",
   "execution_count": 21,
   "metadata": {},
   "outputs": [
    {
     "name": "stdout",
     "output_type": "stream",
     "text": [
      "5.3181474312\n"
     ]
    }
   ],
   "source": [
    "#rms error\n",
    "with tf.name_scope(\"RMSerror\"):\n",
    "    rms = tf.sqrt(tf.reduce_mean(tf.squared_difference(x_array, y_array,name = \"difference_square\"),name=\"Finding_mean\"),name = \"Finding_square_root\")\n",
    "    with tf.Session() as sess:\n",
    "        rmse=sess.run(rms)\n",
    "        print(rmse)"
   ]
  },
  {
   "cell_type": "code",
   "execution_count": 22,
   "metadata": {},
   "outputs": [
    {
     "name": "stdout",
     "output_type": "stream",
     "text": [
      "0.252027\n"
     ]
    }
   ],
   "source": [
    "with tf.name_scope(\"Finding_theta_1\"): \n",
    "    y_var = tf.subtract(y,result_y,name = \"Subtract_y_array_with_y_mean\")\n",
    "    x_var = tf.subtract(x,m,name = \"Subtract_x_array_with_x_mean\")\n",
    "    mult = tf.multiply(x_var,y_var,name = \"Multiply_calculated_arrays\")\n",
    "    sumn = tf.reduce_sum(mult,name = \"Find_sum_of_x_i_minus_mean_x_and_y_i_minus_mean_y\")\n",
    "    x_var2 = tf.multiply(x_var,x_var,name = \"Squaring_found_arrray_values\")\n",
    "    sumd = tf.reduce_sum(x_var2,name = \"Find_sum_of_array_of_x_i_minus_mean_x\")\n",
    "    val = sumn/sumd\n",
    "\n",
    "    with tf.Session() as sess:\n",
    "        res = sess.run(val)\n",
    "        print(res)\n",
    "\n"
   ]
  },
  {
   "cell_type": "code",
   "execution_count": 23,
   "metadata": {},
   "outputs": [
    {
     "name": "stdout",
     "output_type": "stream",
     "text": [
      "-0.681428\n"
     ]
    }
   ],
   "source": [
    "with tf.name_scope(\"Finding_theta_0\"):    \n",
    "    temp = tf.multiply(res,m,name = \"Multiply_res_with_slope\")\n",
    "    theta = tf.subtract(result_y,temp,name=\"Sub_obtained_res_with_mean_y\")\n",
    "    with tf.Session() as sess:\n",
    "        theta0 = sess.run(theta)\n",
    "        print(theta0)\n"
   ]
  },
  {
   "cell_type": "code",
   "execution_count": 24,
   "metadata": {},
   "outputs": [
    {
     "name": "stdout",
     "output_type": "stream",
     "text": [
      "[-0.42940134  1.68762565  0.15530139 -0.45964459 -1.24344873 -0.40167835\n",
      " -0.53777295 -1.24848914 -1.51563787  0.94414598]\n"
     ]
    }
   ],
   "source": [
    "with tf.name_scope(\"Finding_predictions\"):\n",
    "    mx = tf.multiply(res,x,name = \"Multiply_res_with_x_array\")\n",
    "    y_temp = tf.add(mx,theta0,name = \"Add_m_multiplied_x_array_with_c\")\n",
    "    with tf.Session() as sess:\n",
    "        y_new = sess.run(y_temp)\n",
    "        print(y_new)"
   ]
  },
  {
   "cell_type": "code",
   "execution_count": 25,
   "metadata": {},
   "outputs": [
    {
     "name": "stdout",
     "output_type": "stream",
     "text": [
      "8.52351\n"
     ]
    }
   ],
   "source": [
    "t_minus = tf.subtract(y_new,y,name = \"Sub_new_preds_with_original_y\")\n",
    "t_squared = tf.multiply(t_minus,t_minus,name= \"Square_obtained_res\")\n",
    "t_sum = tf.reduce_sum(t_squared,name=\"Find_array_sum\")\n",
    "j_theta = tf.div(t_sum,20,name=\"Divide_by_no_of_elements\")\n",
    "with tf.Session() as sess:\n",
    "    print(sess.run(j_theta))"
   ]
  },
  {
   "cell_type": "code",
   "execution_count": 26,
   "metadata": {},
   "outputs": [
    {
     "name": "stdout",
     "output_type": "stream",
     "text": [
      "8.52351\n"
     ]
    }
   ],
   "source": [
    "with tf.Session() as sess:\n",
    "    writer = tf.summary.FileWriter(\"/tmp/tboard/output_regg2\", sess.graph)\n",
    "    print(sess.run(j_theta))\n",
    "    writer.close()"
   ]
  },
  {
   "cell_type": "code",
   "execution_count": null,
   "metadata": {
    "collapsed": true
   },
   "outputs": [],
   "source": []
  }
 ],
 "metadata": {
  "celltoolbar": "Slideshow",
  "kernelspec": {
   "display_name": "Python 3",
   "language": "python",
   "name": "python3"
  },
  "language_info": {
   "codemirror_mode": {
    "name": "ipython",
    "version": 3
   },
   "file_extension": ".py",
   "mimetype": "text/x-python",
   "name": "python",
   "nbconvert_exporter": "python",
   "pygments_lexer": "ipython3",
   "version": "3.6.1"
  }
 },
 "nbformat": 4,
 "nbformat_minor": 2
}
