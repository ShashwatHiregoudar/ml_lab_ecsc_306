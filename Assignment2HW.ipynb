{
 "cells": [
  {
   "cell_type": "code",
   "execution_count": 2,
   "metadata": {},
   "outputs": [
    {
     "name": "stdout",
     "output_type": "stream",
     "text": [
      "4.5\n",
      "5.5\n",
      "28.0\n",
      "33.88\n",
      "30.8\n",
      "1.1\n",
      "0.55\n"
     ]
    }
   ],
   "source": [
    "import tensorflow as tf\n",
    "a=tf.constant([1.5,2.5,3.5,4.5,5.5,6.5,7.5])\n",
    "b=tf.constant([2.2,3.3,4.4,5.5,6.6,7.7,8.8])\n",
    "mean_a=tf.reduce_mean(a)\n",
    "mean_b=tf.reduce_mean(b)\n",
    "ss=tf.Session()\n",
    "print (ss.run(mean_a))\n",
    "print (ss.run(mean_b))\n",
    "#var_x=tf.nn.weighted_moments(x,,mean_x)\n",
    "a_a=tf.subtract(a,mean_a)\n",
    "b_b=tf.subtract(b,mean_b)\n",
    "\n",
    "sqr1=tf.square(a_a)\n",
    "sqr2=tf.square(b_b)\n",
    "\n",
    "var1=tf.reduce_sum(sqr1)\n",
    "var2=tf.reduce_sum(sqr2)\n",
    "\n",
    "print (ss.run(var1))\n",
    "print (ss.run(var2))\n",
    "\n",
    "tmp=tf.multiply(a_a,b_b)\n",
    "cov=tf.reduce_sum(tmp)\n",
    "print (ss.run(cov))\n",
    "\n",
    "m=tf.div(cov,var1)\n",
    "print (ss.run(m))\n",
    "\n",
    "tmp2=tf.multiply(m,mean_a)\n",
    "c=tf.subtract(mean_b,tmp2)\n",
    "print (ss.run(c))"
   ]
  },
  {
   "cell_type": "code",
   "execution_count": null,
   "metadata": {
    "collapsed": true
   },
   "outputs": [],
   "source": []
  }
 ],
 "metadata": {
  "kernelspec": {
   "display_name": "Python 3",
   "language": "python",
   "name": "python3"
  },
  "language_info": {
   "codemirror_mode": {
    "name": "ipython",
    "version": 3
   },
   "file_extension": ".py",
   "mimetype": "text/x-python",
   "name": "python",
   "nbconvert_exporter": "python",
   "pygments_lexer": "ipython3",
   "version": "3.6.1"
  }
 },
 "nbformat": 4,
 "nbformat_minor": 2
}
